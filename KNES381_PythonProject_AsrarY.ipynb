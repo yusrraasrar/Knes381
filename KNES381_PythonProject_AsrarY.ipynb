{
 "cells": [
  {
   "cell_type": "markdown",
   "id": "d10a7a99",
   "metadata": {
    "papermill": {
     "duration": 0.006868,
     "end_time": "2025-03-28T07:12:09.285962",
     "exception": false,
     "start_time": "2025-03-28T07:12:09.279094",
     "status": "completed"
    },
    "tags": []
   },
   "source": [
    "<IMG SRC=\"https://ucalgary.ca/themes/ucalgary/ucws_theme/images/UCalgary.svg\" WIDTH=250 ALIGN=\"right\">    </IMG>\n",
    "## Plotting $\\dot{V}O_2$ continued...\n",
    "\n",
    "#### Developed by Dr. John Holash at the University of Calgary"
   ]
  },
  {
   "cell_type": "code",
   "execution_count": 1,
   "id": "80f5013c",
   "metadata": {
    "_cell_guid": "b1076dfc-b9ad-4769-8c92-a6c4dae69d19",
    "_uuid": "8f2839f25d086af736a60e9eeb907d3b93b6e0e5",
    "execution": {
     "iopub.execute_input": "2025-03-28T07:12:09.301138Z",
     "iopub.status.busy": "2025-03-28T07:12:09.300047Z",
     "iopub.status.idle": "2025-03-28T07:12:09.320863Z",
     "shell.execute_reply": "2025-03-28T07:12:09.319712Z"
    },
    "papermill": {
     "duration": 0.031716,
     "end_time": "2025-03-28T07:12:09.323499",
     "exception": false,
     "start_time": "2025-03-28T07:12:09.291783",
     "status": "completed"
    },
    "tags": []
   },
   "outputs": [
    {
     "name": "stdout",
     "output_type": "stream",
     "text": [
      "/kaggle/input/demo-knes381/subject_1321.xlsx\n",
      "/kaggle/input/demo-knes381/subject_1432.xlsx\n",
      "/kaggle/input/demo-knes381/subject_1321.csv\n",
      "/kaggle/input/demo-knes381/subject_1232.csv\n",
      "/kaggle/input/demo-knes381/VO2_CSV.csv\n",
      "/kaggle/input/demo-knes381/subject_1232.xlsx\n",
      "/kaggle/input/demo-knes381/subject_1432.csv\n",
      "/kaggle/input/demo-knes381/subject_1523.csv\n",
      "/kaggle/input/demo-knes381/VO2_excel.xlsx\n",
      "/kaggle/input/demo-knes381/subject_1523.xlsx\n"
     ]
    }
   ],
   "source": [
    "# This Python 3 environment comes with many helpful analytics libraries installed\n",
    "# It is defined by the kaggle/python Docker image: https://github.com/kaggle/docker-python\n",
    "# For example, here's several helpful packages to load\n",
    "\n",
    "import numpy as np # linear algebra\n",
    "import pandas as pd # data processing, CSV file I/O (e.g. pd.read_csv)\n",
    "\n",
    "# Input data files are available in the read-only \"../input/\" directory\n",
    "# For example, running this (by clicking run or pressing Shift+Enter) will list all files under the input directory\n",
    "\n",
    "import os\n",
    "for dirname, _, filenames in os.walk('/kaggle/input'):\n",
    "    for filename in filenames:\n",
    "        print(os.path.join(dirname, filename))\n",
    "\n",
    "# You can write up to 20GB to the current directory (/kaggle/working/) that gets preserved as output when you create a version using \"Save & Run All\" \n",
    "# You can also write temporary files to /kaggle/temp/, but they won't be saved outside of the current session"
   ]
  },
  {
   "cell_type": "code",
   "execution_count": 2,
   "id": "326bee6a",
   "metadata": {
    "execution": {
     "iopub.execute_input": "2025-03-28T07:12:09.336892Z",
     "iopub.status.busy": "2025-03-28T07:12:09.336483Z",
     "iopub.status.idle": "2025-03-28T07:12:09.354704Z",
     "shell.execute_reply": "2025-03-28T07:12:09.353196Z"
    },
    "papermill": {
     "duration": 0.02795,
     "end_time": "2025-03-28T07:12:09.357347",
     "exception": false,
     "start_time": "2025-03-28T07:12:09.329397",
     "status": "completed"
    },
    "tags": []
   },
   "outputs": [],
   "source": [
    "df = pd.read_csv('../input/demo-knes381/subject_1523.csv', header=[0], skiprows=[1,2,3])"
   ]
  },
  {
   "cell_type": "code",
   "execution_count": 3,
   "id": "12395791",
   "metadata": {
    "execution": {
     "iopub.execute_input": "2025-03-28T07:12:09.371454Z",
     "iopub.status.busy": "2025-03-28T07:12:09.370754Z",
     "iopub.status.idle": "2025-03-28T07:12:09.397295Z",
     "shell.execute_reply": "2025-03-28T07:12:09.396191Z"
    },
    "papermill": {
     "duration": 0.036415,
     "end_time": "2025-03-28T07:12:09.399744",
     "exception": false,
     "start_time": "2025-03-28T07:12:09.363329",
     "status": "completed"
    },
    "tags": []
   },
   "outputs": [
    {
     "name": "stdout",
     "output_type": "stream",
     "text": [
      "<class 'pandas.core.frame.DataFrame'>\n",
      "RangeIndex: 54 entries, 0 to 53\n",
      "Data columns (total 16 columns):\n",
      " #   Column       Non-Null Count  Dtype  \n",
      "---  ------       --------------  -----  \n",
      " 0   TIME         54 non-null     float64\n",
      " 1    \"VO2   \"    54 non-null     float64\n",
      " 2    \"VO2/kg  \"  54 non-null     float64\n",
      " 3    \"METS \"     54 non-null     float64\n",
      " 4    \"VCO2  \"    54 non-null     float64\n",
      " 5    \"VE     \"   54 non-null     float64\n",
      " 6    \"RER  \"     54 non-null     float64\n",
      " 7    \"RR  \"      54 non-null     float64\n",
      " 8    \"Vt    \"    54 non-null     float64\n",
      " 9    \"FEO2  \"    54 non-null     float64\n",
      " 10   \"FECO2 \"    54 non-null     float64\n",
      " 11   \"HR  \"      54 non-null     float64\n",
      " 12   \"VE/   \"    54 non-null     float64\n",
      " 13   \"VE/   \".1  54 non-null     float64\n",
      " 14   \"PetCO2 \"   54 non-null     float64\n",
      " 15  PO           54 non-null     int64  \n",
      "dtypes: float64(15), int64(1)\n",
      "memory usage: 6.9 KB\n"
     ]
    }
   ],
   "source": [
    "df.info()"
   ]
  },
  {
   "cell_type": "markdown",
   "id": "e2569cb8",
   "metadata": {
    "papermill": {
     "duration": 0.005632,
     "end_time": "2025-03-28T07:12:09.411451",
     "exception": false,
     "start_time": "2025-03-28T07:12:09.405819",
     "status": "completed"
    },
    "tags": []
   },
   "source": [
    "### Rename some of the columns so they make sense\n",
    "you can rename them with the value TIME -> Time(min) but don't leave spaces if you want to auto-complete names..."
   ]
  },
  {
   "cell_type": "code",
   "execution_count": 4,
   "id": "c8057237",
   "metadata": {
    "execution": {
     "iopub.execute_input": "2025-03-28T07:12:09.425552Z",
     "iopub.status.busy": "2025-03-28T07:12:09.425112Z",
     "iopub.status.idle": "2025-03-28T07:12:09.431103Z",
     "shell.execute_reply": "2025-03-28T07:12:09.429738Z"
    },
    "papermill": {
     "duration": 0.016065,
     "end_time": "2025-03-28T07:12:09.433387",
     "exception": false,
     "start_time": "2025-03-28T07:12:09.417322",
     "status": "completed"
    },
    "tags": []
   },
   "outputs": [],
   "source": [
    "df.columns = df.columns.str.strip()"
   ]
  },
  {
   "cell_type": "code",
   "execution_count": 5,
   "id": "83a93a24",
   "metadata": {
    "execution": {
     "iopub.execute_input": "2025-03-28T07:12:09.446977Z",
     "iopub.status.busy": "2025-03-28T07:12:09.446565Z",
     "iopub.status.idle": "2025-03-28T07:12:09.461276Z",
     "shell.execute_reply": "2025-03-28T07:12:09.459899Z"
    },
    "papermill": {
     "duration": 0.024442,
     "end_time": "2025-03-28T07:12:09.463783",
     "exception": false,
     "start_time": "2025-03-28T07:12:09.439341",
     "status": "completed"
    },
    "tags": []
   },
   "outputs": [
    {
     "name": "stdout",
     "output_type": "stream",
     "text": [
      "<class 'pandas.core.frame.DataFrame'>\n",
      "RangeIndex: 54 entries, 0 to 53\n",
      "Data columns (total 16 columns):\n",
      " #   Column      Non-Null Count  Dtype  \n",
      "---  ------      --------------  -----  \n",
      " 0   TIME        54 non-null     float64\n",
      " 1   \"VO2   \"    54 non-null     float64\n",
      " 2   \"VO2/kg  \"  54 non-null     float64\n",
      " 3   \"METS \"     54 non-null     float64\n",
      " 4   \"VCO2  \"    54 non-null     float64\n",
      " 5   \"VE     \"   54 non-null     float64\n",
      " 6   \"RER  \"     54 non-null     float64\n",
      " 7   \"RR  \"      54 non-null     float64\n",
      " 8   \"Vt    \"    54 non-null     float64\n",
      " 9   \"FEO2  \"    54 non-null     float64\n",
      " 10  \"FECO2 \"    54 non-null     float64\n",
      " 11  \"HR  \"      54 non-null     float64\n",
      " 12  \"VE/   \"    54 non-null     float64\n",
      " 13  \"VE/   \".1  54 non-null     float64\n",
      " 14  \"PetCO2 \"   54 non-null     float64\n",
      " 15  PO          54 non-null     int64  \n",
      "dtypes: float64(15), int64(1)\n",
      "memory usage: 6.9 KB\n"
     ]
    }
   ],
   "source": [
    "df.info()"
   ]
  },
  {
   "cell_type": "code",
   "execution_count": 6,
   "id": "bce62ad3",
   "metadata": {
    "execution": {
     "iopub.execute_input": "2025-03-28T07:12:09.478892Z",
     "iopub.status.busy": "2025-03-28T07:12:09.478190Z",
     "iopub.status.idle": "2025-03-28T07:12:09.484399Z",
     "shell.execute_reply": "2025-03-28T07:12:09.483219Z"
    },
    "papermill": {
     "duration": 0.01683,
     "end_time": "2025-03-28T07:12:09.486756",
     "exception": false,
     "start_time": "2025-03-28T07:12:09.469926",
     "status": "completed"
    },
    "tags": []
   },
   "outputs": [],
   "source": [
    "df = df.rename(columns={'\"FECO2 \"': 'FECO2','\"VCO2  \"': 'VCO2','\"VO2   \"':'VO2'})"
   ]
  },
  {
   "cell_type": "code",
   "execution_count": 7,
   "id": "78022008",
   "metadata": {
    "execution": {
     "iopub.execute_input": "2025-03-28T07:12:09.500874Z",
     "iopub.status.busy": "2025-03-28T07:12:09.500125Z",
     "iopub.status.idle": "2025-03-28T07:12:09.512592Z",
     "shell.execute_reply": "2025-03-28T07:12:09.511494Z"
    },
    "papermill": {
     "duration": 0.022192,
     "end_time": "2025-03-28T07:12:09.515078",
     "exception": false,
     "start_time": "2025-03-28T07:12:09.492886",
     "status": "completed"
    },
    "tags": []
   },
   "outputs": [
    {
     "name": "stdout",
     "output_type": "stream",
     "text": [
      "<class 'pandas.core.frame.DataFrame'>\n",
      "RangeIndex: 54 entries, 0 to 53\n",
      "Data columns (total 16 columns):\n",
      " #   Column      Non-Null Count  Dtype  \n",
      "---  ------      --------------  -----  \n",
      " 0   TIME        54 non-null     float64\n",
      " 1   VO2         54 non-null     float64\n",
      " 2   \"VO2/kg  \"  54 non-null     float64\n",
      " 3   \"METS \"     54 non-null     float64\n",
      " 4   VCO2        54 non-null     float64\n",
      " 5   \"VE     \"   54 non-null     float64\n",
      " 6   \"RER  \"     54 non-null     float64\n",
      " 7   \"RR  \"      54 non-null     float64\n",
      " 8   \"Vt    \"    54 non-null     float64\n",
      " 9   \"FEO2  \"    54 non-null     float64\n",
      " 10  FECO2       54 non-null     float64\n",
      " 11  \"HR  \"      54 non-null     float64\n",
      " 12  \"VE/   \"    54 non-null     float64\n",
      " 13  \"VE/   \".1  54 non-null     float64\n",
      " 14  \"PetCO2 \"   54 non-null     float64\n",
      " 15  PO          54 non-null     int64  \n",
      "dtypes: float64(15), int64(1)\n",
      "memory usage: 6.9 KB\n"
     ]
    }
   ],
   "source": [
    "df.info()"
   ]
  },
  {
   "cell_type": "code",
   "execution_count": 8,
   "id": "62730048",
   "metadata": {
    "execution": {
     "iopub.execute_input": "2025-03-28T07:12:09.529952Z",
     "iopub.status.busy": "2025-03-28T07:12:09.528803Z",
     "iopub.status.idle": "2025-03-28T07:12:09.534443Z",
     "shell.execute_reply": "2025-03-28T07:12:09.533352Z"
    },
    "papermill": {
     "duration": 0.015545,
     "end_time": "2025-03-28T07:12:09.536804",
     "exception": false,
     "start_time": "2025-03-28T07:12:09.521259",
     "status": "completed"
    },
    "tags": []
   },
   "outputs": [],
   "source": [
    "import matplotlib.pyplot as plt"
   ]
  },
  {
   "cell_type": "markdown",
   "id": "a0349dee",
   "metadata": {
    "papermill": {
     "duration": 0.005951,
     "end_time": "2025-03-28T07:12:09.549146",
     "exception": false,
     "start_time": "2025-03-28T07:12:09.543195",
     "status": "completed"
    },
    "tags": []
   },
   "source": [
    "### Create our big plot...\n",
    "1st define our variables x,y,& y1"
   ]
  },
  {
   "cell_type": "code",
   "execution_count": 9,
   "id": "bd61ea92",
   "metadata": {
    "execution": {
     "iopub.execute_input": "2025-03-28T07:12:09.563432Z",
     "iopub.status.busy": "2025-03-28T07:12:09.563062Z",
     "iopub.status.idle": "2025-03-28T07:12:09.568409Z",
     "shell.execute_reply": "2025-03-28T07:12:09.567386Z"
    },
    "papermill": {
     "duration": 0.015396,
     "end_time": "2025-03-28T07:12:09.570873",
     "exception": false,
     "start_time": "2025-03-28T07:12:09.555477",
     "status": "completed"
    },
    "tags": []
   },
   "outputs": [],
   "source": [
    "# simplify our terms to reduce future typing...\n",
    "x = df['VO2']\n",
    "y = df['VCO2']\n",
    "y1 = df['FECO2']"
   ]
  },
  {
   "cell_type": "markdown",
   "id": "3679a2b0",
   "metadata": {
    "papermill": {
     "duration": 0.005913,
     "end_time": "2025-03-28T07:12:09.582936",
     "exception": false,
     "start_time": "2025-03-28T07:12:09.577023",
     "status": "completed"
    },
    "tags": []
   },
   "source": [
    "#### Find the position where max occurs, on each axes"
   ]
  },
  {
   "cell_type": "code",
   "execution_count": 10,
   "id": "c721ca9e",
   "metadata": {
    "execution": {
     "iopub.execute_input": "2025-03-28T07:12:09.597568Z",
     "iopub.status.busy": "2025-03-28T07:12:09.596815Z",
     "iopub.status.idle": "2025-03-28T07:12:09.602112Z",
     "shell.execute_reply": "2025-03-28T07:12:09.601015Z"
    },
    "papermill": {
     "duration": 0.015176,
     "end_time": "2025-03-28T07:12:09.604415",
     "exception": false,
     "start_time": "2025-03-28T07:12:09.589239",
     "status": "completed"
    },
    "tags": []
   },
   "outputs": [],
   "source": [
    "#Find VCO2 and FECO2 max value \n",
    "ymax = max(y)\n",
    "y1max= max(y1)\n",
    "\n",
    "# find the x position of the ymax value or where ymax occurs on the x axis\n",
    "xmax = x[y.argmax()]"
   ]
  },
  {
   "cell_type": "markdown",
   "id": "0287f7c3",
   "metadata": {
    "papermill": {
     "duration": 0.005912,
     "end_time": "2025-03-28T07:12:09.616838",
     "exception": false,
     "start_time": "2025-03-28T07:12:09.610926",
     "status": "completed"
    },
    "tags": []
   },
   "source": [
    "#### Now we can discover what these values are"
   ]
  },
  {
   "cell_type": "code",
   "execution_count": 11,
   "id": "ab5e319d",
   "metadata": {
    "execution": {
     "iopub.execute_input": "2025-03-28T07:12:09.631504Z",
     "iopub.status.busy": "2025-03-28T07:12:09.630483Z",
     "iopub.status.idle": "2025-03-28T07:12:09.636952Z",
     "shell.execute_reply": "2025-03-28T07:12:09.635611Z"
    },
    "papermill": {
     "duration": 0.016232,
     "end_time": "2025-03-28T07:12:09.639262",
     "exception": false,
     "start_time": "2025-03-28T07:12:09.623030",
     "status": "completed"
    },
    "tags": []
   },
   "outputs": [
    {
     "name": "stdout",
     "output_type": "stream",
     "text": [
      "4.013725\n",
      "4.184775\n",
      "4.635746\n"
     ]
    }
   ],
   "source": [
    "print(ymax)\n",
    "print(xmax)\n",
    "print(y1max)"
   ]
  },
  {
   "cell_type": "markdown",
   "id": "f1889d46",
   "metadata": {
    "papermill": {
     "duration": 0.005944,
     "end_time": "2025-03-28T07:12:09.651365",
     "exception": false,
     "start_time": "2025-03-28T07:12:09.645421",
     "status": "completed"
    },
    "tags": []
   },
   "source": [
    "#### Create the frame and the axis that we will plot in"
   ]
  },
  {
   "cell_type": "code",
   "execution_count": 12,
   "id": "9fb16feb",
   "metadata": {
    "execution": {
     "iopub.execute_input": "2025-03-28T07:12:09.665967Z",
     "iopub.status.busy": "2025-03-28T07:12:09.665155Z",
     "iopub.status.idle": "2025-03-28T07:12:09.945916Z",
     "shell.execute_reply": "2025-03-28T07:12:09.944704Z"
    },
    "papermill": {
     "duration": 0.290865,
     "end_time": "2025-03-28T07:12:09.948496",
     "exception": false,
     "start_time": "2025-03-28T07:12:09.657631",
     "status": "completed"
    },
    "tags": []
   },
   "outputs": [
    {
     "data": {
      "image/png": "[encoded data removed]",
      "text/plain": [
       "<Figure size 640x480 with 2 Axes>"
      ]
     },
     "metadata": {},
     "output_type": "display_data"
    }
   ],
   "source": [
    "# break up the figure and axis definitions of a plot \n",
    "# so it is easier to assign values\n",
    "\n",
    "fig, ax = plt.subplots(2, 1, sharex=True)\n",
    "\n",
    "# create 2 subplots share x axis, in the next line we will remove \n",
    "# spaces between the horizontal axis, play with this value to see what happens the value can be 0.01 for example\n",
    "\n",
    "fig.subplots_adjust(hspace=0.1\n",
    "                   )"
   ]
  },
  {
   "cell_type": "markdown",
   "id": "2ba86360",
   "metadata": {
    "papermill": {
     "duration": 0.006248,
     "end_time": "2025-03-28T07:12:09.961294",
     "exception": false,
     "start_time": "2025-03-28T07:12:09.955046",
     "status": "completed"
    },
    "tags": []
   },
   "source": [
    "#### Now that we have that axis value specified, annotate the position and marker for VO2 max"
   ]
  },
  {
   "cell_type": "code",
   "execution_count": 13,
   "id": "173db297",
   "metadata": {
    "execution": {
     "iopub.execute_input": "2025-03-28T07:12:09.976350Z",
     "iopub.status.busy": "2025-03-28T07:12:09.975406Z",
     "iopub.status.idle": "2025-03-28T07:12:09.983928Z",
     "shell.execute_reply": "2025-03-28T07:12:09.982797Z"
    },
    "papermill": {
     "duration": 0.018282,
     "end_time": "2025-03-28T07:12:09.986019",
     "exception": false,
     "start_time": "2025-03-28T07:12:09.967737",
     "status": "completed"
    },
    "tags": []
   },
   "outputs": [
    {
     "data": {
      "text/plain": [
       "Text(4.684775, 5.013725, '$\\\\dot VCO_2max$ =(4.01) L/min')"
      ]
     },
     "execution_count": 13,
     "metadata": {},
     "output_type": "execute_result"
    }
   ],
   "source": [
    "ax[0].annotate('$\\dot VCO_2max$ =({}) L/min'.format(round(ymax, 2)), \n",
    "               xy=(xmax, ymax), xytext=(xmax+.5, ymax+ 1),\n",
    "               arrowprops=dict(facecolor='red', shrink= 0.05),\n",
    "                )"
   ]
  },
  {
   "cell_type": "markdown",
   "id": "c7419e55",
   "metadata": {
    "papermill": {
     "duration": 0.006289,
     "end_time": "2025-03-28T07:12:09.999004",
     "exception": false,
     "start_time": "2025-03-28T07:12:09.992715",
     "status": "completed"
    },
    "tags": []
   },
   "source": [
    "#### For the first plot ax[0] we create the lable and make it red\n",
    "Then we get rid of the right and top plot frame\n",
    "We set the y axis lab as \"L/min\" and tell it to print a legend"
   ]
  },
  {
   "cell_type": "code",
   "execution_count": 14,
   "id": "09d14d43",
   "metadata": {
    "execution": {
     "iopub.execute_input": "2025-03-28T07:12:10.015401Z",
     "iopub.status.busy": "2025-03-28T07:12:10.014489Z",
     "iopub.status.idle": "2025-03-28T07:12:10.026130Z",
     "shell.execute_reply": "2025-03-28T07:12:10.024951Z"
    },
    "papermill": {
     "duration": 0.022704,
     "end_time": "2025-03-28T07:12:10.028463",
     "exception": false,
     "start_time": "2025-03-28T07:12:10.005759",
     "status": "completed"
    },
    "tags": []
   },
   "outputs": [
    {
     "data": {
      "text/plain": [
       "<matplotlib.legend.Legend at 0x78cbbd295690>"
      ]
     },
     "execution_count": 14,
     "metadata": {},
     "output_type": "execute_result"
    }
   ],
   "source": [
    "ax[0].plot(x, y,  label=('$\\dot VCO_2$'), c='r' )\n",
    "ax[0].spines[['right', 'top']].set_visible(False)\n",
    "#note all these set features could be added in one line but reading it would be difficult\n",
    "#ax.set(title = ('$\\dot VO_2$'), label=('$\\dot VO_2$ L/min'))  \n",
    "ax[0].set(ylabel=('L/min'))\n",
    "ax[0].legend()\n"
   ]
  },
  {
   "cell_type": "markdown",
   "id": "29304dd9",
   "metadata": {
    "papermill": {
     "duration": 0.00638,
     "end_time": "2025-03-28T07:12:10.042545",
     "exception": false,
     "start_time": "2025-03-28T07:12:10.036165",
     "status": "completed"
    },
    "tags": []
   },
   "source": [
    "#### Same thing for the second plot *note* we don't see the plot because we have not ploted the plot"
   ]
  },
  {
   "cell_type": "code",
   "execution_count": 15,
   "id": "28b9a6ec",
   "metadata": {
    "execution": {
     "iopub.execute_input": "2025-03-28T07:12:10.058054Z",
     "iopub.status.busy": "2025-03-28T07:12:10.057265Z",
     "iopub.status.idle": "2025-03-28T07:12:10.068211Z",
     "shell.execute_reply": "2025-03-28T07:12:10.067048Z"
    },
    "papermill": {
     "duration": 0.021161,
     "end_time": "2025-03-28T07:12:10.070499",
     "exception": false,
     "start_time": "2025-03-28T07:12:10.049338",
     "status": "completed"
    },
    "tags": []
   },
   "outputs": [
    {
     "data": {
      "text/plain": [
       "<matplotlib.legend.Legend at 0x78cbbd295350>"
      ]
     },
     "execution_count": 15,
     "metadata": {},
     "output_type": "execute_result"
    }
   ],
   "source": [
    "# Second plot of values down from the top\n",
    "ax[1].plot(x, y1, label=('FECO2'), c='b')\n",
    "ax[1].spines[['top', 'right']].set_visible(False)\n",
    "ax[1].set(ylabel=('%'))\n",
    "ax[1].legend()"
   ]
  },
  {
   "cell_type": "markdown",
   "id": "d070284d",
   "metadata": {
    "papermill": {
     "duration": 0.006513,
     "end_time": "2025-03-28T07:12:10.083709",
     "exception": false,
     "start_time": "2025-03-28T07:12:10.077196",
     "status": "completed"
    },
    "tags": []
   },
   "source": [
    "#### We can now create a file with our first plot! We will save the plot first for reasons discussed"
   ]
  },
  {
   "cell_type": "code",
   "execution_count": 16,
   "id": "9322eba9",
   "metadata": {
    "execution": {
     "iopub.execute_input": "2025-03-28T07:12:10.098615Z",
     "iopub.status.busy": "2025-03-28T07:12:10.098259Z",
     "iopub.status.idle": "2025-03-28T07:12:10.683065Z",
     "shell.execute_reply": "2025-03-28T07:12:10.681996Z"
    },
    "papermill": {
     "duration": 0.595627,
     "end_time": "2025-03-28T07:12:10.685884",
     "exception": false,
     "start_time": "2025-03-28T07:12:10.090257",
     "status": "completed"
    },
    "tags": []
   },
   "outputs": [],
   "source": [
    "fig.savefig(\"VCO2-FECO2-3.png\", dpi=300, bbox_inches = \"tight\")"
   ]
  },
  {
   "cell_type": "markdown",
   "id": "650dfd25",
   "metadata": {
    "papermill": {
     "duration": 0.006382,
     "end_time": "2025-03-28T07:12:10.699240",
     "exception": false,
     "start_time": "2025-03-28T07:12:10.692858",
     "status": "completed"
    },
    "tags": []
   },
   "source": [
    "#### As this is an interactive space we need to put all the code together for it to plot out interactively..."
   ]
  },
  {
   "cell_type": "code",
   "execution_count": 17,
   "id": "7ed0992f",
   "metadata": {
    "execution": {
     "iopub.execute_input": "2025-03-28T07:12:10.714640Z",
     "iopub.status.busy": "2025-03-28T07:12:10.713884Z",
     "iopub.status.idle": "2025-03-28T07:12:11.718294Z",
     "shell.execute_reply": "2025-03-28T07:12:11.717090Z"
    },
    "papermill": {
     "duration": 1.015054,
     "end_time": "2025-03-28T07:12:11.720915",
     "exception": false,
     "start_time": "2025-03-28T07:12:10.705861",
     "status": "completed"
    },
    "tags": []
   },
   "outputs": [
    {
     "data": {
      "image/png": "[encoded data removed]",
      "text/plain": [
       "<Figure size 640x480 with 2 Axes>"
      ]
     },
     "metadata": {},
     "output_type": "display_data"
    }
   ],
   "source": [
    "# break up the figure and axis definitions of a plot \n",
    "# so it is easier to assign values\n",
    "fig, ax = plt.subplots(2, 1, sharex=True)  # Height increased from default\n",
    "# spaces between the horizontal axis, play with this value?\n",
    "fig.subplots_adjust(hspace=0)\n",
    "\n",
    "\n",
    "ax[0].annotate('$\\dot VCO_2max$ =({}) L/min'.format(round(ymax, 2)), \n",
    "               xy=(xmax, ymax), xytext=(xmax+.5, ymax+ 1),\n",
    "               arrowprops=dict(facecolor='red', shrink= 0.05),\n",
    "                )\n",
    "\n",
    "ax[0].plot(x, y,  label=('$\\dot VO_2$'), c='r' )\n",
    "ax[0].spines[['right', 'top']].set_visible(False)\n",
    "#note all these set features could be added in one line but reading it would be difficult\n",
    "#ax.set(title = ('$\\dot VO_2$'), label=('$\\dot VO_2$ L/min'))  \n",
    "ax[0].set(ylabel=('L/min'))\n",
    "ax[0].legend()\n",
    "\n",
    "# Second plot of values down from the top\n",
    "ax[1].plot(x, y1, label=('FECO2'), c='b')\n",
    "ax[1].spines[['top', 'right']].set_visible(False)\n",
    "ax[1].set(ylabel=('%'))\n",
    "ax[1].legend()\n",
    "\n",
    "#ax[0].set_ylim(min(y) - 1, max(y) + 1)  # Adjust as needed for your data\n",
    "#ax[1].set_ylim(min(y1) - 1, max(y1) + 1)  # Adjust as needed\n",
    "\n",
    "get_vo2 = 1.3  # update\n",
    "rcp_vo2 = 2.3  # update\n",
    "\n",
    "for a in ax:\n",
    "    a.axvline(x=get_vo2, color='teal', linewidth=3, alpha=0.5)\n",
    "    a.axvline(x=rcp_vo2, color='purple', linewidth=3, alpha=0.5)\n",
    "\n",
    "# save the figure before we show it... or it will be blank\n",
    "fig.savefig(\"VCO2-FECO2-3.png\", dpi=300, bbox_inches = \"tight\")\n",
    "fig.show()"
   ]
  },
  {
   "cell_type": "markdown",
   "id": "f008db41",
   "metadata": {
    "papermill": {
     "duration": 0.006954,
     "end_time": "2025-03-28T07:12:11.735258",
     "exception": false,
     "start_time": "2025-03-28T07:12:11.728304",
     "status": "completed"
    },
    "tags": []
   },
   "source": [
    "### We can put this all together now in one code block that does everything...\n",
    "\n",
    "We have built up each part seperatly in the code above to make sure that all parts of our code should and do work.  Now that we know everything works we can take the next step of putting it together in one code block so we don't run into coherence problems (running things out of order).  We will run everything in one block now, this is a self contained python file and you could turn it into a .py file and run it from the command line and if your path to the datafile was accurate it would run and save the image file."
   ]
  },
  {
   "cell_type": "code",
   "execution_count": 18,
   "id": "a90e1098",
   "metadata": {
    "execution": {
     "iopub.execute_input": "2025-03-28T07:12:11.751730Z",
     "iopub.status.busy": "2025-03-28T07:12:11.750922Z",
     "iopub.status.idle": "2025-03-28T07:12:13.072296Z",
     "shell.execute_reply": "2025-03-28T07:12:13.071177Z"
    },
    "papermill": {
     "duration": 1.332605,
     "end_time": "2025-03-28T07:12:13.075068",
     "exception": false,
     "start_time": "2025-03-28T07:12:11.742463",
     "status": "completed"
    },
    "tags": []
   },
   "outputs": [
    {
     "name": "stdout",
     "output_type": "stream",
     "text": [
      "['TIME', 'VO2', 'VO2/kg', 'METS', 'VCO2', 'VE', 'RER', 'RR', 'Vt', 'FEO2', 'FECO2', 'HR', 'VE/', 'VE/   .1', 'PetCO2', 'PO']\n"
     ]
    },
    {
     "data": {
      "image/png": "[encoded data removed]",
      "text/plain": [
       "<Figure size 800x1000 with 2 Axes>"
      ]
     },
     "metadata": {},
     "output_type": "display_data"
    }
   ],
   "source": [
    "### Now all together in one code block that could run independently...\n",
    "# lets take care of importing everything we need at once\n",
    "\n",
    "import numpy as np # linear algebra\n",
    "import pandas as pd # data processing, CSV file I/O (e.g. pd.read_csv)\n",
    "import matplotlib.pyplot as plt\n",
    "\n",
    "# Lets read in our file now\n",
    "df = pd.read_csv('../input/demo-knes381/subject_1523.csv', header=[0], skiprows=[1,2,3])\n",
    "\n",
    "# please note that while this is an output file from the parvo-metabolics cart we have\n",
    "# I have edited this data set and simplied the header file on it\n",
    "\n",
    "# rename our column headers\n",
    "df = df.rename(columns={'\"FECO2 \"': 'FECO2','\"VCO2  \"': 'VCO2','\"VO2   \"':'VO2'})\n",
    "\n",
    "# Clean column names: remove quotes, then strip spaces\n",
    "df.columns = df.columns.str.replace('\"', '').str.strip()\n",
    "\n",
    "# Debug check because my naming was not working\n",
    "print(df.columns.tolist())  # See actual column names\n",
    "\n",
    "# simplify our terms to reduce future typing... \n",
    "# it is easier to write plot x, y than plot df['Time'], df['VO2']\n",
    "x = df['VO2']\n",
    "y = df['VCO2']\n",
    "y1 = df['FECO2']\n",
    "\n",
    "#Find VO2 max value \n",
    "ymax = max(y)\n",
    "y1max= max(y1)\n",
    "\n",
    "# find the x position of the ymax value or where ymax occurs on the x axis\n",
    "xmax = x[y.argmax()]\n",
    "\n",
    "fig, ax = plt.subplots(2, 1, sharex=True, figsize=(8, 10)) # Note I increased the figure size here.\n",
    "\n",
    "# this line seperates the two plots...\n",
    "fig.subplots_adjust(hspace=0)\n",
    "\n",
    "# annotate the position of V02 max before plotting the value, we could do this later but why.\n",
    "\n",
    "ax[0].annotate('$\\dot VO_2max$ =({}) L/min'.format(round(ymax, 2)), \n",
    "               xy=(xmax, ymax), xytext=(xmax+.5, ymax+ 1),\n",
    "               arrowprops=dict(facecolor='red', shrink= 0.05),\n",
    "                )\n",
    "\n",
    "ax[0].plot(x, y, 'o', label=('$\\dot VCO_2$'), color='green')\n",
    "ax[0].spines[['right', 'top']].set_visible(False)\n",
    "\n",
    "# in the line of code below I hide the top and right black bars serrounding the plot for APA format.\n",
    "ax[0].spines[['right', 'top']].set_visible(False)\n",
    "ax[0].set(ylabel=('L/min'))\n",
    "ax[0].legend()\n",
    "#note all these set features could be added in one line but reading it would be difficult\n",
    "\n",
    "# Second plot of values down from the top\n",
    "ax[1].plot(x, y1, 'o', label='FECO$_2$', color='blue')\n",
    "ax[1].spines[['top', 'right']].set_visible(False)\n",
    "ax[1].set(ylabel=('%'))\n",
    "ax[1].legend()\n",
    "\n",
    "get_vo2 = 1.3  # update\n",
    "rcp_vo2 = 2.3  # update\n",
    "\n",
    "for a in ax:\n",
    "    a.axvline(x=get_vo2, color='teal', linewidth=3, alpha=0.5)\n",
    "    a.axvline(x=rcp_vo2, color='purple', linewidth=3, alpha=0.5)\n",
    "\n",
    "# Labels\n",
    "ax[1].legend()\n",
    "\n",
    "# save the figure before we show it... or it will be blank\n",
    "fig.savefig(\"VCO2-FECO2-3.png\", dpi=300, bbox_inches = \"tight\")\n",
    "fig.show()"
   ]
  },
  {
   "cell_type": "markdown",
   "id": "285e254e",
   "metadata": {
    "papermill": {
     "duration": 0.007749,
     "end_time": "2025-03-28T07:12:13.090993",
     "exception": false,
     "start_time": "2025-03-28T07:12:13.083244",
     "status": "completed"
    },
    "tags": []
   },
   "source": [
    "### Please note that if you change the file path of the datafile in the code block above you create an completely new graph for your new data, all by changing just one line of code...\n",
    "Also I have changed the marker form a line to dots, can you see somthing about the data that was hidden before when it was plotted in lines?"
   ]
  },
  {
   "cell_type": "code",
   "execution_count": null,
   "id": "a9884819",
   "metadata": {
    "papermill": {
     "duration": 0.007539,
     "end_time": "2025-03-28T07:12:13.106437",
     "exception": false,
     "start_time": "2025-03-28T07:12:13.098898",
     "status": "completed"
    },
    "tags": []
   },
   "outputs": [],
   "source": []
  }
 ],
 "metadata": {
  "kaggle": {
   "accelerator": "none",
   "dataSources": [
    {
     "datasetId": 2952233,
     "sourceId": 5084312,
     "sourceType": "datasetVersion"
    }
   ],
   "dockerImageVersionId": 30407,
   "isGpuEnabled": false,
   "isInternetEnabled": false,
   "language": "python",
   "sourceType": "notebook"
  },
  "kernelspec": {
   "display_name": "Python 3",
   "language": "python",
   "name": "python3"
  },
  "language_info": {
   "codemirror_mode": {
    "name": "ipython",
    "version": 3
   },
   "file_extension": ".py",
   "mimetype": "text/x-python",
   "name": "python",
   "nbconvert_exporter": "python",
   "pygments_lexer": "ipython3",
   "version": "3.7.12"
  },
  "papermill": {
   "default_parameters": {},
   "duration": 14.652895,
   "end_time": "2025-03-28T07:12:13.735537",
   "environment_variables": {},
   "exception": null,
   "input_path": "__notebook__.ipynb",
   "output_path": "__notebook__.ipynb",
   "parameters": {},
   "start_time": "2025-03-28T07:11:59.082642",
   "version": "2.4.0"
  }
 },
 "nbformat": 4,
 "nbformat_minor": 5
}
